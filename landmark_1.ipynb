{
 "cells": [
  {
   "cell_type": "markdown",
   "metadata": {
    "id": "yzfMc6pWQbhW"
   },
   "source": [
    "# Convolutional Neural Networks\n",
    "\n",
    "## Project: Write an Algorithm for Landmark Classification\n",
    "\n",
    "---\n",
    "\n",
    "In this notebook, some template code has already been provided for you, and you will need to implement additional functionality to successfully complete this project. You will not need to modify the included code beyond what is requested. Sections that begin with **'(IMPLEMENTATION)'** in the header indicate that the following block of code will require additional functionality which you must provide. Instructions will be provided for each section, and the specifics of the implementation are marked in the code block with a 'TODO' statement. Please be sure to read the instructions carefully! \n",
    "\n",
    "> **Note**: Once you have completed all the code implementations, you need to finalize your work by exporting the Jupyter Notebook as an HTML document. Before exporting the notebook to HTML, all the code cells need to have been run so that reviewers can see the final implementation and output. You can then export the notebook by using the menu above and navigating to **File -> Download as -> HTML (.html)**. Include the finished document along with this notebook as your submission.\n",
    "\n",
    "In addition to implementing code, there will be questions that you must answer which relate to the project and your implementation. Each section where you will answer a question is preceded by a **'Question X'** header. Carefully read each question and provide thorough answers in the following text boxes that begin with **'Answer:'**. Your project submission will be evaluated based on your answers to each of the questions and the implementation you provide.\n",
    "\n",
    ">**Note:** Code and Markdown cells can be executed using the **Shift + Enter** keyboard shortcut.  Markdown cells can be edited by double-clicking the cell to enter edit mode.\n",
    "\n",
    "The rubric contains _optional_ \"Stand Out Suggestions\" for enhancing the project beyond the minimum requirements. If you decide to pursue the \"Stand Out Suggestions\", you should include the code in this Jupyter notebook.\n",
    "\n",
    "---\n",
    "### Why We're Here\n",
    "\n",
    "Photo sharing and photo storage services like to have location data for each photo that is uploaded. With the location data, these services can build advanced features, such as automatic suggestion of relevant tags or automatic photo organization, which help provide a compelling user experience. Although a photo's location can often be obtained by looking at the photo's metadata, many photos uploaded to these services will not have location metadata available. This can happen when, for example, the camera capturing the picture does not have GPS or if a photo's metadata is scrubbed due to privacy concerns.\n",
    "\n",
    "If no location metadata for an image is available, one way to infer the location is to detect and classify a discernable landmark in the image. Given the large number of landmarks across the world and the immense volume of images that are uploaded to photo sharing services, using human judgement to classify these landmarks would not be feasible.\n",
    "\n",
    "In this notebook, you will take the first steps towards addressing this problem by building models to automatically predict the location of the image based on any landmarks depicted in the image. At the end of this project, your code will accept any user-supplied image as input and suggest the top k most relevant landmarks from 50 possible landmarks from across the world. The image below displays a potential sample output of your finished project.\n",
    "\n",
    "![Sample landmark classification output](images/sample_landmark_output.png)\n",
    "\n",
    "\n",
    "### The Road Ahead\n",
    "\n",
    "We break the notebook into separate steps.  Feel free to use the links below to navigate the notebook.\n",
    "\n",
    "* [Step 0](#step0): Download Datasets and Install Python Modules\n",
    "* [Step 1](#step1): Create a CNN to Classify Landmarks (from Scratch)\n",
    "* [Step 2](#step2): Create a CNN to Classify Landmarks (using Transfer Learning)\n",
    "* [Step 3](#step3): Write Your Landmark Prediction Algorithm\n",
    "\n",
    "---\n",
    "<a id='step0'></a>\n",
    "## Step 0: Download Datasets and Install Python Modules\n",
    "\n",
    "**Note: if you are using the Udacity workspace, *YOU CAN SKIP THIS STEP*. The dataset can be found in the `/data` folder and all required Python modules have been installed in the workspace.**\n",
    "\n",
    "Download the [landmark dataset](https://udacity-dlnfd.s3-us-west-1.amazonaws.com/datasets/landmark_images.zip).\n",
    "Unzip the folder and place it in this project's home directory, at the location `/landmark_images`.\n",
    "\n",
    "Install the following Python modules:\n",
    "* cv2\n",
    "* matplotlib\n",
    "* numpy\n",
    "* PIL\n",
    "* torch\n",
    "* torchvision"
   ]
  },
  {
   "cell_type": "code",
   "execution_count": null,
   "metadata": {
    "colab": {
     "base_uri": "https://localhost:8080/"
    },
    "id": "9f2g6AFdQbhc",
    "outputId": "c7e54452-5e46-4a83-c16c-94c3642cdebd"
   },
   "outputs": [],
   "source": [
    "import os\n",
    "os.listdir()\n",
    "\n",
    "# !wget https://udacity-dlnfd.s3-us-west-1.amazonaws.com/datasets/landmark_images.zip"
   ]
  },
  {
   "cell_type": "code",
   "execution_count": null,
   "metadata": {
    "colab": {
     "base_uri": "https://localhost:8080/"
    },
    "id": "MsmV2s0jRJdD",
    "outputId": "aec14372-1a79-4171-d6e5-00f661a244e7"
   },
   "outputs": [],
   "source": [
    "!unzip landmark_images.zip"
   ]
  },
  {
   "cell_type": "markdown",
   "metadata": {
    "id": "rCYK5_eaQbhe"
   },
   "source": [
    "---\n",
    "\n",
    "<a id='step1'></a>\n",
    "## Step 1: Create a CNN to Classify Landmarks (from Scratch)\n",
    "\n",
    "In this step, you will create a CNN that classifies landmarks.  You must create your CNN _from scratch_ (so, you can't use transfer learning _yet_!), and you must attain a test accuracy of at least 20%.\n",
    "\n",
    "Although 20% may seem low at first glance, it seems more reasonable after realizing how difficult of a problem this is. Many times, an image that is taken at a landmark captures a fairly mundane image of an animal or plant, like in the following picture.\n",
    "\n",
    "<img src=\"images/train/00.Haleakala_National_Park/084c2aa50d0a9249.jpg\" alt=\"Bird in Haleakalā National Park\" style=\"width: 400px;\"/>\n",
    "\n",
    "Just by looking at that image alone, would you have been able to guess that it was taken at the Haleakalā National Park in Hawaii?\n",
    "\n",
    "An accuracy of 20% is significantly better than random guessing, which would provide an accuracy of just 2%. In Step 2 of this notebook, you will have the opportunity to greatly improve accuracy by using transfer learning to create a CNN.\n",
    "\n",
    "Remember that practice is far ahead of theory in deep learning.  Experiment with many different architectures, and trust your intuition.  And, of course, have fun!"
   ]
  },
  {
   "cell_type": "markdown",
   "metadata": {
    "id": "gMpznaYhQbhe"
   },
   "source": [
    "### (IMPLEMENTATION) Specify Data Loaders for the Landmark Dataset\n",
    "\n",
    "Use the code cell below to create three separate [data loaders](http://pytorch.org/docs/stable/data.html#torch.utils.data.DataLoader): one for training data, one for validation data, and one for test data. Randomly split the images located at `landmark_images/train` to create the train and validation data loaders, and use the images located at `landmark_images/test` to create the test data loader.\n",
    "\n",
    "**Note**: Remember that the dataset can be found at `/data/landmark_images/` in the workspace.\n",
    "\n",
    "All three of your data loaders should be accessible via a dictionary named `loaders_scratch`. Your train data loader should be at `loaders_scratch['train']`, your validation data loader should be at `loaders_scratch['valid']`, and your test data loader should be at `loaders_scratch['test']`.\n",
    "\n",
    "You may find [this documentation on custom datasets](https://pytorch.org/docs/stable/torchvision/datasets.html#datasetfolder) to be a useful resource.  If you are interested in augmenting your training and/or validation data, check out the wide variety of [transforms](http://pytorch.org/docs/stable/torchvision/transforms.html?highlight=transform)!"
   ]
  },
  {
   "cell_type": "code",
   "execution_count": 1,
   "metadata": {
    "id": "Z_07f1CLQbhf"
   },
   "outputs": [],
   "source": [
    "### TODO: Write data loaders for training, validation, and test sets\n",
    "## Specify appropriate transforms, and batch_sizes\n",
    "from torchvision import transforms, datasets\n",
    "import torch\n",
    "from torch.utils.data.sampler import SubsetRandomSampler\n",
    "import numpy as np\n",
    "\n",
    "\n",
    "batch_size = 16\n",
    "#image transormations to augment the existing images\n",
    "\n",
    "# transform = transforms.Compose([transforms.Resize (255),\n",
    "#                                 transforms.CenterCrop (224),\n",
    "#                                 transforms.RandomRotation(10),\n",
    "#                                 transforms.Normalize ([0.485, 0.456, 0.406],[0.229, 0.224, 0.225]),\n",
    "#                                 transforms.ToTensor()])\n",
    "\n",
    "\n",
    "transform = transforms.Compose([\n",
    "                                transforms.CenterCrop (112),\n",
    "                                transforms.RandomRotation(15),\n",
    "                                transforms.RandomHorizontalFlip(),\n",
    "                                transforms.ToTensor(),\n",
    "                                transforms.Normalize ([0.485, 0.456, 0.406],[0.229, 0.224, 0.225])\n",
    "                              ])\n",
    "\n",
    "#getting all images from Imagefolder\n",
    "train_images = datasets.ImageFolder('train', transform = transform)\n",
    "test_images = datasets.ImageFolder('test' , transform = transform)\n",
    "\n",
    "#splitting the train_images into train and validation\n",
    "size_train = len(train_images)\n",
    "valid_size = 0.2\n",
    "\n",
    "indices = list(range(size_train))\n",
    "np.random.shuffle(indices)\n",
    "\n",
    "split = int(np.floor(valid_size*size_train))\n",
    "\n",
    "train_idx, valid_idx = indices[split:], indices[:split]\n",
    "\n",
    "train_sampler = SubsetRandomSampler ( train_idx )\n",
    "valid_sampler = SubsetRandomSampler ( valid_idx )\n",
    "\n",
    "train_loader = torch.utils.data.DataLoader( train_images, batch_size= batch_size , \n",
    "                                           sampler= train_sampler)\n",
    "valid_loader = torch.utils.data.DataLoader( train_images, batch_size= batch_size , \n",
    "                                           sampler= valid_sampler)\n",
    "test_loader = torch.utils.data.DataLoader( train_images, batch_size= batch_size , \n",
    "                                           shuffle = True)\n",
    "\n",
    "\n",
    "loaders_scratch = {'train': train_loader, 'valid': valid_loader, 'test': test_loader}\n"
   ]
  },
  {
   "cell_type": "code",
   "execution_count": 2,
   "metadata": {
    "colab": {
     "base_uri": "https://localhost:8080/"
    },
    "id": "7b-g_QttQbhf",
    "outputId": "81f584e3-7206-43bf-d259-357b78bf7a2c"
   },
   "outputs": [
    {
     "name": "stdout",
     "output_type": "stream",
     "text": [
      "torch.Size([16, 3, 112, 112])\n",
      "[ 9 11 20 20  6  7 17 17  0 14  4  9 13 15 12 10]\n"
     ]
    }
   ],
   "source": [
    "image, targets = next(iter(loaders_scratch['train']))\n",
    "print(image.shape)\n",
    "print(targets.detach().numpy())"
   ]
  },
  {
   "cell_type": "markdown",
   "metadata": {
    "id": "QUSI288uQbhg"
   },
   "source": [
    "**Question 1:** Describe your chosen procedure for preprocessing the data. \n",
    "- How does your code resize the images (by cropping, stretching, etc)?  What size did you pick for the input tensor, and why?\n",
    "- Did you decide to augment the dataset?  If so, how (through translations, flips, rotations, etc)?  If not, why not?"
   ]
  },
  {
   "cell_type": "markdown",
   "metadata": {
    "id": "yBPUZkwJQbhg"
   },
   "source": [
    "**Answer**: \n",
    "1) REsize the images using Image transformation --RandomResizedCrop\n",
    "2) Data is augmented using transforms, rotation, flips\n"
   ]
  },
  {
   "cell_type": "markdown",
   "metadata": {
    "id": "Omh9fstOQbhh"
   },
   "source": [
    "### (IMPLEMENTATION) Visualize a Batch of Training Data\n",
    "\n",
    "Use the code cell below to retrieve a batch of images from your train data loader, display at least 5 images simultaneously, and label each displayed image with its class name (e.g., \"Golden Gate Bridge\").\n",
    "\n",
    "Visualizing the output of your data loader is a great way to ensure that your data loading and preprocessing are working as expected."
   ]
  },
  {
   "cell_type": "code",
   "execution_count": 3,
   "metadata": {
    "colab": {
     "base_uri": "https://localhost:8080/"
    },
    "id": "vmaqIBCQQbhh",
    "outputId": "e5ac7441-bd11-4024-a30b-5db2d0e0972f"
   },
   "outputs": [
    {
     "name": "stdout",
     "output_type": "stream",
     "text": [
      "21\n"
     ]
    }
   ],
   "source": [
    "labels_ = datasets.ImageFolder('train', transform = transform).classes\n",
    "label_name ={ }\n",
    "key = 0\n",
    "for label in labels_:\n",
    "    if label not in label_name:\n",
    "        label_name[key] = label.split('.')[-1]\n",
    "#         key +=1\n",
    "# print(label_name\n",
    "# print(labels_)\n",
    "label_count=print(len(labels_))\n",
    "# print(labels_)"
   ]
  },
  {
   "cell_type": "code",
   "execution_count": 4,
   "metadata": {
    "colab": {
     "base_uri": "https://localhost:8080/",
     "height": 594
    },
    "id": "JnZjkInAQbhh",
    "outputId": "40f32418-7a2c-4d81-8a81-9ff2e6a5f2a5"
   },
   "outputs": [],
   "source": [
    "import matplotlib.pyplot as plt\n",
    "%matplotlib inline\n",
    "\n",
    "## TODO: visualize a batch of the train data loader\n",
    "#loading a batch of images and labels\n",
    "images, labels = next(iter(train_loader))\n",
    "    \n",
    "    \n",
    "# fig = plt.figure(figsize=(25, 10))\n",
    "# for idx in np.arange(8):\n",
    "#     ax = fig.add_subplot(2, 4, idx+1, xticks=[], yticks=[])\n",
    "#     img = images[idx].detach().numpy().transpose( 1, 2, 0)\n",
    "#     img = img * np.array((0.229, 0.224, 0.225)) + np.array((0.485, 0.456, 0.406))\n",
    "#     img = img.clip(0, 1)\n",
    "#     plt.imshow(img)\n",
    "#     ax.set_title(labels_[labels[idx].numpy()])"
   ]
  },
  {
   "cell_type": "markdown",
   "metadata": {
    "id": "8VeJS4lHQbhi"
   },
   "source": [
    "### Initialize use_cuda variable"
   ]
  },
  {
   "cell_type": "code",
   "execution_count": 5,
   "metadata": {
    "colab": {
     "base_uri": "https://localhost:8080/"
    },
    "id": "Ca-hb7EiQbhi",
    "outputId": "c8ed6e85-835d-4861-c51c-22a00aac951f"
   },
   "outputs": [
    {
     "name": "stdout",
     "output_type": "stream",
     "text": [
      "True\n"
     ]
    }
   ],
   "source": [
    "# useful variable that tells us whether we should use the GPU\n",
    "use_cuda = torch.cuda.is_available()\n",
    "print(use_cuda)"
   ]
  },
  {
   "cell_type": "markdown",
   "metadata": {
    "id": "hpYgVi2PQbhj"
   },
   "source": [
    "### (IMPLEMENTATION) Specify Loss Function and Optimizer\n",
    "\n",
    "Use the next code cell to specify a [loss function](http://pytorch.org/docs/stable/nn.html#loss-functions) and [optimizer](http://pytorch.org/docs/stable/optim.html).  Save the chosen loss function as `criterion_scratch`, and fill in the function `get_optimizer_scratch` below."
   ]
  },
  {
   "cell_type": "code",
   "execution_count": 6,
   "metadata": {
    "id": "r4I6k2JmQbhj"
   },
   "outputs": [],
   "source": [
    "import torch.nn as nn\n",
    "import torch.nn.functional as F\n",
    "from torch import optim"
   ]
  },
  {
   "cell_type": "code",
   "execution_count": 7,
   "metadata": {
    "id": "N3afkcliQbhj"
   },
   "outputs": [],
   "source": [
    "\n",
    "criterion_scratch =  nn.CrossEntropyLoss()\n",
    "\n",
    "def get_optimizer_scratch(model):\n",
    "    ## TODO: select and return an optimizer\n",
    "    optimizer = optim.SGD( model.parameters(), lr= 0.01)\n",
    "    return optimizer"
   ]
  },
  {
   "cell_type": "markdown",
   "metadata": {
    "id": "-_h0CvJrQbhk"
   },
   "source": [
    "### (IMPLEMENTATION) Model Architecture\n",
    "\n",
    "Create a CNN to classify images of landmarks.  Use the template in the code cell below."
   ]
  },
  {
   "cell_type": "code",
   "execution_count": 8,
   "metadata": {
    "colab": {
     "base_uri": "https://localhost:8080/"
    },
    "id": "iVAeSOVwQbhk",
    "outputId": "19a1aebd-ba09-4451-b55c-785e2aabff28"
   },
   "outputs": [
    {
     "name": "stdout",
     "output_type": "stream",
     "text": [
      "Net(\n",
      "  (conv1): Conv2d(3, 64, kernel_size=(3, 3), stride=(1, 1), padding=(1, 1))\n",
      "  (conv2): Conv2d(64, 64, kernel_size=(3, 3), stride=(1, 1), padding=(1, 1))\n",
      "  (conv3): Conv2d(64, 128, kernel_size=(3, 3), stride=(1, 1), padding=(1, 1))\n",
      "  (conv4): Conv2d(128, 128, kernel_size=(3, 3), stride=(1, 1), padding=(1, 1))\n",
      "  (conv5): Conv2d(128, 256, kernel_size=(3, 3), stride=(1, 1), padding=(1, 1))\n",
      "  (conv6): Conv2d(256, 256, kernel_size=(3, 3), stride=(1, 1), padding=(1, 1))\n",
      "  (conv7): Conv2d(256, 512, kernel_size=(3, 3), stride=(1, 1), padding=(1, 1))\n",
      "  (conv8): Conv2d(512, 512, kernel_size=(3, 3), stride=(1, 1), padding=(1, 1))\n",
      "  (pool): MaxPool2d(kernel_size=(2, 2), stride=2, padding=0, dilation=1, ceil_mode=False)\n",
      "  (fc1): Linear(in_features=25088, out_features=2000, bias=True)\n",
      "  (fc2): Linear(in_features=2000, out_features=500, bias=True)\n",
      "  (drop): Dropout(p=0.2, inplace=False)\n",
      "  (fc3): Linear(in_features=500, out_features=21, bias=True)\n",
      ")\n"
     ]
    }
   ],
   "source": [
    "import torch.nn as nn\n",
    "\n",
    "# define the CNN architecture\n",
    "class Net(nn.Module):\n",
    "    ## TODO: choose an architecture, and complete the class\n",
    "    def __init__(self):\n",
    "        super(Net, self).__init__()\n",
    "        \n",
    "        ## Define layers of a CNN\n",
    "        self.conv1 = nn.Conv2d(3, 64, 3, padding = 1)\n",
    "        self.conv2 = nn.Conv2d(64, 64, 3, padding = 1)\n",
    "        self.conv3= nn.Conv2d(64, 128, 3, padding = 1)\n",
    "        self.conv4 = nn.Conv2d(128, 128, 3, padding = 1)\n",
    "        self.conv5 = nn.Conv2d(128, 256, 3, padding = 1)\n",
    "        self.conv6 = nn.Conv2d(256, 256, 3, padding = 1)\n",
    "        self.conv7 = nn.Conv2d(256, 512, 3, padding = 1)\n",
    "        self.conv8 = nn.Conv2d(512, 512, 3, padding = 1)\n",
    "        self.pool = nn.MaxPool2d(kernel_size=(2,2), stride= 2)\n",
    "        self.fc1 = nn.Linear(in_features= 7*7*512, out_features=2000)\n",
    "        self.fc2 = nn.Linear (in_features= 2000 , out_features= 500)\n",
    "        self.drop = nn.Dropout(0.2)\n",
    "        self.fc3 = nn.Linear (in_features= 500, out_features= 21)\n",
    "        # self.output = nn.LogSoftmax (dim =1)\n",
    "        \n",
    "        \n",
    "    def forward(self, x):\n",
    "        ## Define forward behavior\n",
    "        x = F.relu(self.conv1(x))\n",
    "        x = F.relu(self.conv2(x))\n",
    "        x = self.pool(x)\n",
    "        x = F.relu(self.conv3(x))\n",
    "        x = F.relu(self.conv4(x))\n",
    "        x = self.pool(x)\n",
    "        x = F.relu(self.conv5(x))\n",
    "        x = F.relu(self.conv6(x))\n",
    "        x = self.pool(x)\n",
    "        x = F.relu(self.conv7(x))\n",
    "        x = F.relu(self.conv8(x))\n",
    "        x = self.pool(x)\n",
    "        x = F.relu(self.conv8(x))\n",
    "        \n",
    "        #FC \n",
    "        x = x.view(-1, 7*7*512)\n",
    "        x = self.drop(x)\n",
    "        x = F.relu(self.fc1(x))\n",
    "        x = self.drop(x)\n",
    "        x = F.relu(self.fc2(x))\n",
    "        x = self.drop(x)\n",
    "        x = self.fc3(x)\n",
    "        \n",
    "        return x\n",
    "\n",
    "#-#-# Do NOT modify the code below this line. #-#-#\n",
    "\n",
    "# instantiate the CNN\n",
    "model_scratch = Net()\n",
    "\n",
    "# move tensors to GPU if CUDA is available\n",
    "if use_cuda:\n",
    "    model_scratch.cuda()\n",
    "print(model_scratch)"
   ]
  },
  {
   "cell_type": "markdown",
   "metadata": {
    "id": "RAYok8FvQbhk"
   },
   "source": [
    "__Question 2:__ Outline the steps you took to get to your final CNN architecture and your reasoning at each step.  "
   ]
  },
  {
   "cell_type": "markdown",
   "metadata": {
    "id": "nyLc54AQQbhl"
   },
   "source": [
    "__Answer:__  "
   ]
  },
  {
   "cell_type": "markdown",
   "metadata": {
    "id": "hffl4JDbQbhl"
   },
   "source": [
    "### (IMPLEMENTATION) Implement the Training Algorithm\n",
    "\n",
    "Implement your training algorithm in the code cell below.  [Save the final model parameters](http://pytorch.org/docs/master/notes/serialization.html) at the filepath stored in the variable `save_path`."
   ]
  },
  {
   "cell_type": "code",
   "execution_count": 9,
   "metadata": {
    "id": "aDE8yAPLQbhl"
   },
   "outputs": [],
   "source": [
    "def train(n_epochs, loaders, model, optimizer, criterion, use_cuda, save_path):\n",
    "    \"\"\"returns trained model\"\"\"\n",
    "    # initialize tracker for minimum validation loss\n",
    "    valid_loss_min = np.Inf \n",
    "    \n",
    "    for epoch in range(1, n_epochs+1):\n",
    "        # initialize variables to monitor training and validation loss\n",
    "        train_loss = 0.0\n",
    "        valid_loss = 0.0\n",
    "        \n",
    "        ###################\n",
    "        # train the model #\n",
    "        ###################\n",
    "        # set the module to training mode\n",
    "        model.train()\n",
    "        for batch_idx, (data, target) in enumerate(loaders['train']):\n",
    "            # move to GPU\n",
    "            if use_cuda:\n",
    "                data, target = data.cuda(), target.cuda()\n",
    "\n",
    "            ## TODO: find the loss and update the model parameters accordingly\n",
    "            ## record the average training loss, using something like\n",
    "            ## train_loss = train_loss + ((1 / (batch_idx + 1)) * (loss.data.item() - train_loss))\n",
    "            \n",
    "            optimizer.zero_grad()\n",
    "            ## forward pass: \n",
    "            outputs = model_scratch(data)\n",
    "            # calculate the loss\n",
    "            loss = criterion(outputs, target)\n",
    "            # backward pass: \n",
    "            loss.backward()\n",
    "            # (parameter update)\n",
    "            optimizer.step()\n",
    "            # update running training loss\n",
    "            # train_loss +=  ((1 / (batch_idx + 1)) * ( train_loss-loss.data.item() ))\n",
    "            train_loss += loss.item()*data.size(0)\n",
    "        print(outputs[0]) \n",
    "        print(target) \n",
    "\n",
    "        ######################    \n",
    "        # validate the model #\n",
    "        ######################\n",
    "        # set the model to evaluation mode\n",
    "        model.eval()\n",
    "        for batch_idx, (data, target) in enumerate(loaders['valid']):\n",
    "            # move to GPU\n",
    "            if use_cuda:\n",
    "                data, target = data.cuda(), target.cuda()\n",
    "            output= model_scratch(data)\n",
    "            #caluclate the error\n",
    "            loss = criterion(output, target)\n",
    "            #calculate validation average loss\n",
    "            ## TODO: update average validation loss \n",
    "            # valid_loss += ((1 / (batch_idx + 1)) * ( valid_loss-loss.data.item() ))\n",
    "            valid_loss += loss.item()*data.size(0)\n",
    "            \n",
    "        train_loss = train_loss/len(train_loader.dataset)\n",
    "        valid_loss = valid_loss/len(valid_loader.dataset)\n",
    "        # print training/validation statistics \n",
    "        print('Epoch: {} \\tTraining Loss: {:.6f} \\tValidation Loss: {:.6f}'.format(\n",
    "            epoch, \n",
    "            train_loss,\n",
    "            valid_loss\n",
    "            ))\n",
    "\n",
    "        ## TODO: if the validation loss has decreased, save the model at the filepath stored in save_path\n",
    "        if valid_loss<=valid_loss_min:\n",
    "            print(\"Validation loss reduced from {:.5f} --> {:.5f} \".format(valid_loss_min, valid_loss))\n",
    "            valid_loss_min=valid_loss\n",
    "            torch.save(model_scratch.state_dict(),'model_scratch.pt')\n",
    "        \n",
    "    return model"
   ]
  },
  {
   "cell_type": "markdown",
   "metadata": {
    "id": "7JGRUws_Qbhm"
   },
   "source": [
    "### (IMPLEMENTATION) Experiment with the Weight Initialization\n",
    "\n",
    "Use the code cell below to define a custom weight initialization, and then train with your weight initialization for a few epochs. Make sure that neither the training loss nor validation loss is `nan`.\n",
    "\n",
    "Later on, you will be able to see how this compares to training with PyTorch's default weight initialization."
   ]
  },
  {
   "cell_type": "code",
   "execution_count": 10,
   "metadata": {
    "id": "ueoKc70tQbhm"
   },
   "outputs": [],
   "source": [
    "# def custom_weight_init(m):\n",
    "#     ## TODO: implement a weight initialization strategy\n",
    "#     for layer in m.modules():\n",
    "#         if isinstance(layer, nn.Conv2d):\n",
    "#             layer.weight.data.normal_(0,0.5)\n",
    "# #-#-# Do NOT modify the code below this line. #-#-#\n",
    "    \n",
    "# model_scratch.apply(custom_weight_init)\n",
    "# model_scratch = train(20, loaders_scratch, model_scratch, get_optimizer_scratch(model_scratch),\n",
    "#                       criterion_scratch, use_cuda, 'ignore.pt')"
   ]
  },
  {
   "cell_type": "markdown",
   "metadata": {
    "id": "VyZNmC_hQbhn"
   },
   "source": [
    "### (IMPLEMENTATION) Train and Validate the Model\n",
    "\n",
    "Run the next code cell to train your model."
   ]
  },
  {
   "cell_type": "code",
   "execution_count": null,
   "metadata": {
    "colab": {
     "base_uri": "https://localhost:8080/",
     "height": 1000
    },
    "id": "UUE1skqUQbhn",
    "outputId": "3ffc4a08-8dc2-4a7e-fb5c-2571ad8a441c"
   },
   "outputs": [],
   "source": [
    "## TODO: you may change the number of epochs if you'd like,\n",
    "## but changing it is not required\n",
    "num_epochs = 100\n",
    "\n",
    "#-#-# Do NOT modify the code below this line. #-#-#\n",
    "\n",
    "# function to re-initialize a model with pytorch's default weight initialization\n",
    "def default_weight_init(m):\n",
    "    reset_parameters = getattr(m, 'reset_parameters', None)\n",
    "    if callable(reset_parameters):\n",
    "        m.reset_parameters()\n",
    "\n",
    "# reset the model parameters\n",
    "model_scratch.apply(default_weight_init)\n",
    "\n",
    "# train the model\n",
    "model_scratch = train(num_epochs, loaders_scratch, model_scratch, get_optimizer_scratch(model_scratch), \n",
    "                      criterion_scratch, use_cuda, 'model_scratch.pt')"
   ]
  },
  {
   "cell_type": "markdown",
   "metadata": {
    "id": "-0temKKtQbhn"
   },
   "source": [
    "### (IMPLEMENTATION) Test the Model\n",
    "\n",
    "Run the code cell below to try out your model on the test dataset of landmark images. Run the code cell below to calculate and print the test loss and accuracy.  Ensure that your test accuracy is greater than 20%."
   ]
  },
  {
   "cell_type": "code",
   "execution_count": null,
   "metadata": {
    "colab": {
     "base_uri": "https://localhost:8080/"
    },
    "id": "JbUY9nq0Qbhn",
    "outputId": "ac8b94e2-6249-43dc-f2c0-9de1ad124c2a"
   },
   "outputs": [],
   "source": [
    "def test(loaders, model, criterion, use_cuda):\n",
    "\n",
    "    # monitor test loss and accuracy\n",
    "    test_loss = 0.\n",
    "    correct = 0.\n",
    "    total = 0.\n",
    "\n",
    "    # set the module to evaluation mode\n",
    "    model.eval()\n",
    "\n",
    "    for batch_idx, (data, target) in enumerate(loaders['test']):\n",
    "        # move to GPU\n",
    "        if use_cuda:\n",
    "            data, target = data.cuda(), target.cuda()\n",
    "        # forward pass: compute predicted outputs by passing inputs to the model\n",
    "        output = model(data)\n",
    "        # calculate the loss\n",
    "        loss = criterion(output, target)\n",
    "        # update average test loss \n",
    "        test_loss = test_loss + ((1 / (batch_idx + 1)) * (loss.data.item() - test_loss))\n",
    "        # convert output probabilities to predicted class\n",
    "        pred = output.data.max(1, keepdim=True)[1]\n",
    "        # compare predictions to true label\n",
    "        correct += np.sum(np.squeeze(pred.eq(target.data.view_as(pred))).cpu().numpy())\n",
    "        total += data.size(0)\n",
    "            \n",
    "    print('Test Loss: {:.6f}\\n'.format(test_loss))\n",
    "\n",
    "    print('\\nTest Accuracy: %2d%% (%2d/%2d)' % (\n",
    "        100. * correct / total, correct, total))\n",
    "\n",
    "# load the model that got the best validation accuracy\n",
    "model_scratch.load_state_dict(torch.load('model_scratch.pt'))\n",
    "test(loaders_scratch, model_scratch, criterion_scratch, use_cuda)"
   ]
  },
  {
   "cell_type": "markdown",
   "metadata": {
    "id": "GrK0JQdzQbho"
   },
   "source": [
    "---\n",
    "<a id='step2'></a>\n",
    "## Step 2: Create a CNN to Classify Landmarks (using Transfer Learning)\n",
    "\n",
    "You will now use transfer learning to create a CNN that can identify landmarks from images.  Your CNN must attain at least 60% accuracy on the test set.\n",
    "\n",
    "### (IMPLEMENTATION) Specify Data Loaders for the Landmark Dataset\n",
    "\n",
    "Use the code cell below to create three separate [data loaders](http://pytorch.org/docs/stable/data.html#torch.utils.data.DataLoader): one for training data, one for validation data, and one for test data. Randomly split the images located at `landmark_images/train` to create the train and validation data loaders, and use the images located at `landmark_images/test` to create the test data loader.\n",
    "\n",
    "All three of your data loaders should be accessible via a dictionary named `loaders_transfer`. Your train data loader should be at `loaders_transfer['train']`, your validation data loader should be at `loaders_transfer['valid']`, and your test data loader should be at `loaders_transfer['test']`.\n",
    "\n",
    "If you like, **you are welcome to use the same data loaders from the previous step**, when you created a CNN from scratch."
   ]
  },
  {
   "cell_type": "code",
   "execution_count": null,
   "metadata": {
    "id": "qu5aCn_-Qbho"
   },
   "outputs": [],
   "source": [
    "### TODO: Write data loaders for training, validation, and test sets\n",
    "## Specify appropriate transforms, and batch_sizes\n",
    "\n",
    "batch_size = 32\n",
    "#image transormations to augment the existing images\n",
    "\n",
    "transform = transforms.Compose([\n",
    "                                transforms.CenterCrop (224),\n",
    "                                transforms.RandomRotation(10),\n",
    "                                transforms.ToTensor(),\n",
    "                                transforms.Normalize ([0.485, 0.456, 0.406],[0.229, 0.224, 0.225])\n",
    "                              ])\n",
    "\n",
    "#getting all images from Imagefolder\n",
    "train_images = datasets.ImageFolder('/content/landmark_images/train', transform = transform)\n",
    "test_images = datasets.ImageFolder('/content/landmark_images/test' , transform = transform)\n",
    "\n",
    "#splitting the train_images into train and validation\n",
    "size_train = len(train_images)\n",
    "valid_size = 0.2\n",
    "\n",
    "indices = list(range(size_train))\n",
    "np.random.shuffle(indices)\n",
    "\n",
    "split = int(np.floor(valid_size*size_train))\n",
    "\n",
    "train_idx, valid_idx = indices[split:], indices[:split]\n",
    "\n",
    "train_sampler = SubsetRandomSampler ( train_idx )\n",
    "valid_sampler = SubsetRandomSampler ( valid_idx )\n",
    "\n",
    "train_loader = torch.utils.data.DataLoader( train_images, batch_size= batch_size , \n",
    "                                           sampler= train_sampler)\n",
    "valid_loader = torch.utils.data.DataLoader( train_images, batch_size= batch_size , \n",
    "                                           sampler= valid_sampler)\n",
    "test_loader = torch.utils.data.DataLoader( train_images, batch_size= batch_size , \n",
    "                                           shuffle = True)\n",
    "\n",
    "\n",
    "loaders_transfer = {'train': train_loader, 'valid': valid_loader, 'test': test_loader}\n"
   ]
  },
  {
   "cell_type": "markdown",
   "metadata": {
    "id": "EajcxHE9Qbho"
   },
   "source": [
    "### (IMPLEMENTATION) Specify Loss Function and Optimizer\n",
    "\n",
    "Use the next code cell to specify a [loss function](http://pytorch.org/docs/stable/nn.html#loss-functions) and [optimizer](http://pytorch.org/docs/stable/optim.html).  Save the chosen loss function as `criterion_transfer`, and fill in the function `get_optimizer_transfer` below."
   ]
  },
  {
   "cell_type": "code",
   "execution_count": null,
   "metadata": {
    "id": "ETJEYe3dQbhp"
   },
   "outputs": [],
   "source": [
    "## TODO: select loss function\n",
    "criterion_transfer =  nn.NLLLoss()\n",
    "\n",
    "def get_optimizer_transfer(model):\n",
    "    ## TODO: select and return an optimizer\n",
    "    optimizer = optim.Adam( model.classifier.parameters(), lr= 0.05)\n",
    "    return optimizer"
   ]
  },
  {
   "cell_type": "markdown",
   "metadata": {
    "id": "10dRn7m3Qbhp"
   },
   "source": [
    "### (IMPLEMENTATION) Model Architecture\n",
    "\n",
    "Use transfer learning to create a CNN to classify images of landmarks.  Use the code cell below, and save your initialized model as the variable `model_transfer`."
   ]
  },
  {
   "cell_type": "code",
   "execution_count": null,
   "metadata": {
    "colab": {
     "base_uri": "https://localhost:8080/"
    },
    "id": "N6DCzuwLQbhp",
    "outputId": "f33e4118-b13a-42ee-ab18-9c435c2a7c19"
   },
   "outputs": [],
   "source": [
    "## TODO: Specify model architecture\n",
    "\n",
    "from torchvision import datasets, models, transforms\n",
    "from collections import OrderedDict\n",
    "model_transfer  = models.vgg16 (pretrained = True)\n",
    "# print(model_transfer)\n",
    "for param in model_transfer .parameters(): \n",
    "    param.requires_grad = False\n",
    "  \n",
    "classifier = nn.Sequential  (OrderedDict ([\n",
    "                            ('fc1', nn.Linear (25088, 4096)),\n",
    "                            ('relu1', nn.ReLU ()),\n",
    "                            ('dropout1', nn.Dropout (p = 0.3)),\n",
    "                            ('fc2', nn.Linear (4096, 2048)),\n",
    "                            ('relu2', nn.ReLU ()),\n",
    "                            ('dropout2', nn.Dropout (p = 0.3)),\n",
    "                            ('fc3', nn.Linear (2048, 50)),\n",
    "                            ('output', nn.LogSoftmax (dim =1))\n",
    "                            ]))\n",
    "model_transfer.classifier = classifier\n",
    "print(model_transfer)\n",
    "\n",
    "\n",
    "#-#-# Do NOT modify the code below this line. #-#-#\n",
    "\n",
    "if use_cuda:\n",
    "    model_transfer = model_transfer.cuda()"
   ]
  },
  {
   "cell_type": "markdown",
   "metadata": {
    "id": "CnWv8npNQbhp"
   },
   "source": [
    "__Question 3:__ Outline the steps you took to get to your final CNN architecture and your reasoning at each step.  Describe why you think the architecture is suitable for the current problem."
   ]
  },
  {
   "cell_type": "markdown",
   "metadata": {
    "id": "WWy48bACQbhq"
   },
   "source": [
    "__Answer:__  "
   ]
  },
  {
   "cell_type": "markdown",
   "metadata": {
    "id": "K_BW0zGgQbhq"
   },
   "source": [
    "### (IMPLEMENTATION) Train and Validate the Model\n",
    "\n",
    "Train and validate your model in the code cell below.  [Save the final model parameters](http://pytorch.org/docs/master/notes/serialization.html) at filepath `'model_transfer.pt'`."
   ]
  },
  {
   "cell_type": "code",
   "execution_count": null,
   "metadata": {
    "colab": {
     "base_uri": "https://localhost:8080/"
    },
    "id": "a_NLTBazQbhq",
    "outputId": "a7f9913b-a9ca-4c2b-db2e-af5ab2d968b1"
   },
   "outputs": [],
   "source": [
    "# TODO: train the model and save the best model parameters at filepath 'model_transfer.pt'\n",
    "\n",
    "def train(n_epochs, loaders, model, optimizer, criterion, use_cuda, save_path):\n",
    "    \"\"\"returns trained model\"\"\"\n",
    "    # initialize tracker for minimum validation loss\n",
    "    valid_loss_min = np.Inf \n",
    "    \n",
    "    for epoch in range(1, n_epochs+1):\n",
    "        # initialize variables to monitor training and validation loss\n",
    "        train_loss = 0.0\n",
    "        valid_loss = 0.0\n",
    "        \n",
    "        ###################\n",
    "        # train the model #\n",
    "        ###################\n",
    "        # set the module to training mode\n",
    "        model.train()\n",
    "        for batch_idx, (data, target) in enumerate(loaders['train']):\n",
    "            # move to GPU\n",
    "            if use_cuda:\n",
    "                data, target = data.cuda(), target.cuda()\n",
    "\n",
    "            ## TODO: find the loss and update the model parameters accordingly\n",
    "            ## record the average training loss, using something like\n",
    "            ## train_loss = train_loss + ((1 / (batch_idx + 1)) * (loss.data.item() - train_loss))\n",
    "            \n",
    "            optimizer.zero_grad()\n",
    "            ## forward pass: \n",
    "            outputs = model_transfer(data)\n",
    "\n",
    "            # calculate the loss\n",
    "            loss = criterion(outputs, target)\n",
    "            # backward pass: \n",
    "            loss.backward()\n",
    "            # (parameter update)\n",
    "            optimizer.step()\n",
    "            # update running training loss\n",
    "            train_loss +=  loss.item () \n",
    "            \n",
    "\n",
    "        ######################    \n",
    "        # validate the model #\n",
    "        ######################\n",
    "        # set the model to evaluation mode\n",
    "        model.eval()\n",
    "        for batch_idx, (data, target) in enumerate(loaders['valid']):\n",
    "            accuracy=0\n",
    "            # move to GPU\n",
    "            if use_cuda:\n",
    "                data, target = data.cuda(), target.cuda()\n",
    "            output= model_transfer(data)\n",
    "            #caluclate the error\n",
    "            loss = criterion(output, target)\n",
    "            #calculate validation average loss\n",
    "            ## TODO: update average validation loss \n",
    "            valid_loss += loss.item()\n",
    "            ps = torch.exp(output)\n",
    "            equals = (target.data == ps.max(dim=1)[1])\n",
    "            accuracy += equals.type(torch.FloatTensor).mean()\n",
    "            \n",
    "\n",
    "        # print training/validation statistics \n",
    "        print('Epoch: {} \\tTraining Loss: {:.6f} \\tValidation Loss: {:.6f}'.format(\n",
    "            epoch, \n",
    "            train_loss,\n",
    "            valid_loss\n",
    "            ))\n",
    "\n",
    "        ## TODO: if the validation loss has decreased, save the model at the filepath stored in save_path\n",
    "        if valid_loss<=valid_loss_min:\n",
    "            print(\"Validation loss reduced from {:.5f} --> {:.5f} \".format(valid_loss_min, valid_loss))\n",
    "            valid_loss_min=valid_loss\n",
    "            torch.save(model_transfer.state_dict(),'model_transfer.pt')\n",
    "        \n",
    "    return model\n",
    "model_transfer = train(num_epochs, loaders_transfer, model_transfer, get_optimizer_transfer(model_transfer), \n",
    "                      criterion_transfer, use_cuda, 'model_transfer.pt')\n",
    "#-#-# Do NOT modify the code below this line. #-#-#\n",
    "\n",
    "# load the model that got the best validation accuracy\n",
    "model_transfer.load_state_dict(torch.load('model_transfer.pt'))"
   ]
  },
  {
   "cell_type": "markdown",
   "metadata": {
    "id": "0-yXzWOoQbhq"
   },
   "source": [
    "### (IMPLEMENTATION) Test the Model\n",
    "\n",
    "Try out your model on the test dataset of landmark images. Use the code cell below to calculate and print the test loss and accuracy.  Ensure that your test accuracy is greater than 60%."
   ]
  },
  {
   "cell_type": "code",
   "execution_count": null,
   "metadata": {
    "id": "r88V0FUvQbhq"
   },
   "outputs": [],
   "source": [
    "test(loaders_transfer, model_transfer, criterion_transfer, use_cuda)"
   ]
  },
  {
   "cell_type": "markdown",
   "metadata": {
    "id": "BYWK311tQbhq"
   },
   "source": [
    "---\n",
    "<a id='step3'></a>\n",
    "## Step 3: Write Your Landmark Prediction Algorithm\n",
    "\n",
    "Great job creating your CNN models! Now that you have put in all the hard work of creating accurate classifiers, let's define some functions to make it easy for others to use your classifiers.\n",
    "\n",
    "### (IMPLEMENTATION) Write Your Algorithm, Part 1\n",
    "\n",
    "Implement the function `predict_landmarks`, which accepts a file path to an image and an integer k, and then predicts the **top k most likely landmarks**. You are **required** to use your transfer learned CNN from Step 2 to predict the landmarks.\n",
    "\n",
    "An example of the expected behavior of `predict_landmarks`:\n",
    "```\n",
    ">>> predicted_landmarks = predict_landmarks('example_image.jpg', 3)\n",
    ">>> print(predicted_landmarks)\n",
    "['Golden Gate Bridge', 'Brooklyn Bridge', 'Sydney Harbour Bridge']\n",
    "```"
   ]
  },
  {
   "cell_type": "code",
   "execution_count": null,
   "metadata": {
    "id": "EsHfyFa0Qbhr"
   },
   "outputs": [],
   "source": [
    "import cv2\n",
    "from PIL import Image\n",
    "\n",
    "## the class names can be accessed at the `classes` attribute\n",
    "## of your dataset object (e.g., `train_dataset.classes`)\n",
    "\n",
    "def predict_landmarks(img_path, k):\n",
    "    ## TODO: return the names of the top k landmarks predicted by the transfer learned CNN\n",
    "    \n",
    "\n",
    "\n",
    "# test on a sample image\n",
    "predict_landmarks('images/test/09.Golden_Gate_Bridge/190f3bae17c32c37.jpg', 5)"
   ]
  },
  {
   "cell_type": "markdown",
   "metadata": {
    "id": "t1RJHxFfQbhr"
   },
   "source": [
    "### (IMPLEMENTATION) Write Your Algorithm, Part 2\n",
    "\n",
    "In the code cell below, implement the function `suggest_locations`, which accepts a file path to an image as input, and then displays the image and the **top 3 most likely landmarks** as predicted by `predict_landmarks`.\n",
    "\n",
    "Some sample output for `suggest_locations` is provided below, but feel free to design your own user experience!\n",
    "![](images/sample_landmark_output.png)"
   ]
  },
  {
   "cell_type": "code",
   "execution_count": null,
   "metadata": {
    "id": "dgYe1eHVQbhr"
   },
   "outputs": [],
   "source": [
    "def suggest_locations(img_path):\n",
    "    # get landmark predictions\n",
    "    predicted_landmarks = predict_landmarks(img_path, 3)\n",
    "    \n",
    "    ## TODO: display image and display landmark predictions\n",
    "\n",
    "    \n",
    "    \n",
    "\n",
    "# test on a sample image\n",
    "suggest_locations('images/test/09.Golden_Gate_Bridge/190f3bae17c32c37.jpg')"
   ]
  },
  {
   "cell_type": "markdown",
   "metadata": {
    "id": "tpzZiwIHQbhs"
   },
   "source": [
    "### (IMPLEMENTATION) Test Your Algorithm\n",
    "\n",
    "Test your algorithm by running the `suggest_locations` function on at least four images on your computer. Feel free to use any images you like.\n",
    "\n",
    "__Question 4:__ Is the output better than you expected :) ?  Or worse :( ?  Provide at least three possible points of improvement for your algorithm."
   ]
  },
  {
   "cell_type": "markdown",
   "metadata": {
    "id": "uqBdpj0eQbhs"
   },
   "source": [
    "__Answer:__ (Three possible points for improvement)"
   ]
  },
  {
   "cell_type": "code",
   "execution_count": null,
   "metadata": {
    "id": "pU2S3CmWQbhs"
   },
   "outputs": [],
   "source": [
    "## TODO: Execute the `suggest_locations` function on\n",
    "## at least 4 images on your computer.\n",
    "## Feel free to use as many code cells as needed.\n",
    "\n"
   ]
  }
 ],
 "metadata": {
  "accelerator": "GPU",
  "colab": {
   "collapsed_sections": [],
   "name": "landmark.ipynb",
   "provenance": []
  },
  "kernelspec": {
   "display_name": "Python 3",
   "language": "python",
   "name": "python3"
  },
  "language_info": {
   "codemirror_mode": {
    "name": "ipython",
    "version": 3
   },
   "file_extension": ".py",
   "mimetype": "text/x-python",
   "name": "python",
   "nbconvert_exporter": "python",
   "pygments_lexer": "ipython3",
   "version": "3.6.13"
  }
 },
 "nbformat": 4,
 "nbformat_minor": 1
}
